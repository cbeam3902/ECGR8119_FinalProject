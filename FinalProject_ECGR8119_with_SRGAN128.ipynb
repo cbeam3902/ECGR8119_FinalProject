{
  "cells": [
    {
      "cell_type": "markdown",
      "metadata": {
        "id": "nJWyAzVCtmpy"
      },
      "source": [
        "# Final Project"
      ]
    },
    {
      "cell_type": "markdown",
      "metadata": {
        "id": "hGT91obytqPC"
      },
      "source": [
        "## Setup"
      ]
    },
    {
      "cell_type": "code",
      "execution_count": 1,
      "metadata": {
        "id": "JWlosLklLeo-"
      },
      "outputs": [
        {
          "name": "stderr",
          "output_type": "stream",
          "text": [
            "2023-12-08 15:56:23.843412: I tensorflow/core/util/port.cc:110] oneDNN custom operations are on. You may see slightly different numerical results due to floating-point round-off errors from different computation orders. To turn them off, set the environment variable `TF_ENABLE_ONEDNN_OPTS=0`.\n",
            "2023-12-08 15:56:23.867222: I tensorflow/core/platform/cpu_feature_guard.cc:182] This TensorFlow binary is optimized to use available CPU instructions in performance-critical operations.\n",
            "To enable the following instructions: AVX2 AVX_VNNI FMA, in other operations, rebuild TensorFlow with the appropriate compiler flags.\n",
            "2023-12-08 15:56:25.088245: W tensorflow/compiler/tf2tensorrt/utils/py_utils.cc:38] TF-TRT Warning: Could not find TensorRT\n",
            "2023-12-08 15:56:28.139880: I tensorflow/compiler/xla/stream_executor/cuda/cuda_gpu_executor.cc:995] successful NUMA node read from SysFS had negative value (-1), but there must be at least one NUMA node, so returning NUMA node zero. See more at https://github.com/torvalds/linux/blob/v6.0/Documentation/ABI/testing/sysfs-bus-pci#L344-L355\n",
            "2023-12-08 15:56:28.171549: I tensorflow/compiler/xla/stream_executor/cuda/cuda_gpu_executor.cc:995] successful NUMA node read from SysFS had negative value (-1), but there must be at least one NUMA node, so returning NUMA node zero. See more at https://github.com/torvalds/linux/blob/v6.0/Documentation/ABI/testing/sysfs-bus-pci#L344-L355\n",
            "2023-12-08 15:56:28.171646: I tensorflow/compiler/xla/stream_executor/cuda/cuda_gpu_executor.cc:995] successful NUMA node read from SysFS had negative value (-1), but there must be at least one NUMA node, so returning NUMA node zero. See more at https://github.com/torvalds/linux/blob/v6.0/Documentation/ABI/testing/sysfs-bus-pci#L344-L355\n"
          ]
        }
      ],
      "source": [
        "import tensorflow as tf\n",
        "import tensorflow.keras as keras\n",
        "import glob\n",
        "import imageio\n",
        "import matplotlib.pyplot as plt\n",
        "import numpy as np\n",
        "import os\n",
        "import PIL\n",
        "from tensorflow.keras import layers\n",
        "import time\n",
        "from tqdm import tqdm\n",
        "\n",
        "from IPython import display\n",
        "\n",
        "gpus = tf.config.list_physical_devices('GPU')\n",
        "if gpus:\n",
        "    try:\n",
        "        for gpu in gpus:\n",
        "            tf.config.experimental.set_memory_growth(gpu,True)\n",
        "    except RuntimeError as e:\n",
        "        print(e)"
      ]
    },
    {
      "cell_type": "code",
      "execution_count": 2,
      "metadata": {
        "id": "W9ZY6h9hTlNa"
      },
      "outputs": [],
      "source": [
        "train_GAN = False\n",
        "train_original_classifier = False\n",
        "train_GAN_classifier = True"
      ]
    },
    {
      "cell_type": "code",
      "execution_count": 3,
      "metadata": {
        "colab": {
          "base_uri": "https://localhost:8080/"
        },
        "id": "A4Fbt8_EL3jC",
        "outputId": "d59af5e6-6ab2-4296-84c7-e36e9b14f1f1"
      },
      "outputs": [],
      "source": [
        "(train_images, train_labels), (_, _) = tf.keras.datasets.cifar10.load_data()"
      ]
    },
    {
      "cell_type": "code",
      "execution_count": 4,
      "metadata": {
        "id": "wwwiBwPSL6p8"
      },
      "outputs": [
        {
          "name": "stderr",
          "output_type": "stream",
          "text": [
            "2023-12-08 15:56:28.661412: I tensorflow/compiler/xla/stream_executor/cuda/cuda_gpu_executor.cc:995] successful NUMA node read from SysFS had negative value (-1), but there must be at least one NUMA node, so returning NUMA node zero. See more at https://github.com/torvalds/linux/blob/v6.0/Documentation/ABI/testing/sysfs-bus-pci#L344-L355\n",
            "2023-12-08 15:56:28.661528: I tensorflow/compiler/xla/stream_executor/cuda/cuda_gpu_executor.cc:995] successful NUMA node read from SysFS had negative value (-1), but there must be at least one NUMA node, so returning NUMA node zero. See more at https://github.com/torvalds/linux/blob/v6.0/Documentation/ABI/testing/sysfs-bus-pci#L344-L355\n",
            "2023-12-08 15:56:28.661569: I tensorflow/compiler/xla/stream_executor/cuda/cuda_gpu_executor.cc:995] successful NUMA node read from SysFS had negative value (-1), but there must be at least one NUMA node, so returning NUMA node zero. See more at https://github.com/torvalds/linux/blob/v6.0/Documentation/ABI/testing/sysfs-bus-pci#L344-L355\n",
            "2023-12-08 15:56:28.710524: I tensorflow/compiler/xla/stream_executor/cuda/cuda_gpu_executor.cc:995] successful NUMA node read from SysFS had negative value (-1), but there must be at least one NUMA node, so returning NUMA node zero. See more at https://github.com/torvalds/linux/blob/v6.0/Documentation/ABI/testing/sysfs-bus-pci#L344-L355\n",
            "2023-12-08 15:56:28.710605: I tensorflow/compiler/xla/stream_executor/cuda/cuda_gpu_executor.cc:995] successful NUMA node read from SysFS had negative value (-1), but there must be at least one NUMA node, so returning NUMA node zero. See more at https://github.com/torvalds/linux/blob/v6.0/Documentation/ABI/testing/sysfs-bus-pci#L344-L355\n",
            "2023-12-08 15:56:28.710655: I tensorflow/compiler/xla/stream_executor/cuda/cuda_gpu_executor.cc:995] successful NUMA node read from SysFS had negative value (-1), but there must be at least one NUMA node, so returning NUMA node zero. See more at https://github.com/torvalds/linux/blob/v6.0/Documentation/ABI/testing/sysfs-bus-pci#L344-L355\n",
            "2023-12-08 15:56:28.710704: I tensorflow/core/common_runtime/gpu/gpu_device.cc:1639] Created device /job:localhost/replica:0/task:0/device:GPU:0 with 22157 MB memory:  -> device: 0, name: NVIDIA GeForce RTX 4090, pci bus id: 0000:01:00.0, compute capability: 8.9\n"
          ]
        }
      ],
      "source": [
        "train_images = train_images.reshape(train_images.shape[0], 32, 32, 3).astype('float32')\n",
        "train_images = tf.image.resize(train_images, [64, 64])\n",
        "train_images = (train_images - 127.5) / 127.5  # Normalize the images to [-1, 1]\n",
        "# train_images = (train_images - 0.5) / 0.5"
      ]
    },
    {
      "cell_type": "code",
      "execution_count": 5,
      "metadata": {
        "id": "BohYTmJbMDtH"
      },
      "outputs": [],
      "source": [
        "BUFFER_SIZE = 60000\n",
        "BATCH_SIZE = 128\n",
        "noise_dim = 100"
      ]
    },
    {
      "cell_type": "code",
      "execution_count": 6,
      "metadata": {
        "id": "bv-DzlQOMJVw"
      },
      "outputs": [],
      "source": [
        "train_dataset = tf.data.Dataset.from_tensor_slices(train_images).shuffle(BUFFER_SIZE).batch(BATCH_SIZE)"
      ]
    },
    {
      "cell_type": "markdown",
      "metadata": {
        "id": "DYOVKPSLtczZ"
      },
      "source": [
        "## DCGAN Network"
      ]
    },
    {
      "cell_type": "code",
      "execution_count": 7,
      "metadata": {
        "id": "dY-1kHM09BAj"
      },
      "outputs": [],
      "source": [
        "def make_generator_model(image_widthheight):\n",
        "    initializer = tf.keras.initializers.RandomNormal(mean=0, stddev=0.02)\n",
        "    batch_initializer = tf.keras.initializers.RandomNormal(mean=1, stddev=0.02)\n",
        "    zeror = tf.keras.initializers.Zeros()\n",
        "    model = tf.keras.Sequential()\n",
        "    # model.add(layers.Dense(image_widthheight//8*image_widthheight//8*image_widthheight*4, use_bias=False, input_shape=(100,)))\n",
        "    # model.add(layers.BatchNormalization())\n",
        "    # model.add(layers.ReLU())\n",
        "\n",
        "    # model.add(layers.Reshape((image_widthheight//8, image_widthheight//8, image_widthheight*4)))\n",
        "    # assert model.output_shape == (None, image_widthheight//8, image_widthheight//8, image_widthheight*4)  # Note: None is the batch size\n",
        "\n",
        "    model.add(layers.Conv2DTranspose(image_widthheight*8, (4, 4), strides=(1, 1), use_bias=False, input_shape=(1,1,100), kernel_initializer=initializer))\n",
        "    # assert model.output_shape == (None, image_widthheight//8, image_widthheight//8, image_widthheight*4)\n",
        "    model.add(layers.BatchNormalization(gamma_initializer=batch_initializer, beta_initializer=zeror))\n",
        "    model.add(layers.ReLU())\n",
        "\n",
        "    model.add(layers.Conv2DTranspose(image_widthheight*4, (4, 4), strides=(2, 2), padding='same', use_bias=False, kernel_initializer=initializer))\n",
        "    # assert model.output_shape == (None, image_widthheight//4, image_widthheight//4, image_widthheight*2)\n",
        "    model.add(layers.BatchNormalization(gamma_initializer=batch_initializer, beta_initializer=zeror))\n",
        "    model.add(layers.ReLU())\n",
        "\n",
        "    model.add(layers.Conv2DTranspose(image_widthheight*2, (4, 4), strides=(2, 2), padding='same', use_bias=False, kernel_initializer=initializer))\n",
        "    # assert model.output_shape == (None, image_widthheight//4, image_widthheight//4, image_widthheight*2)\n",
        "    model.add(layers.BatchNormalization(gamma_initializer=batch_initializer, beta_initializer=zeror))\n",
        "    model.add(layers.ReLU())\n",
        "\n",
        "    model.add(layers.Conv2DTranspose(image_widthheight, (4, 4), strides=(2, 2), padding='same', use_bias=False, kernel_initializer=initializer))\n",
        "    # assert model.output_shape == (None, image_widthheight//2, image_widthheight//2, image_widthheight)\n",
        "    model.add(layers.BatchNormalization(gamma_initializer=batch_initializer, beta_initializer=zeror))\n",
        "    model.add(layers.ReLU())\n",
        "\n",
        "    model.add(layers.Conv2DTranspose(3, (4, 4), strides=(2, 2), padding='same', use_bias=False, kernel_initializer=initializer, activation='tanh'))\n",
        "    # assert model.output_shape == (None, image_widthheight, image_widthheight, 3)\n",
        "\n",
        "    return model"
      ]
    },
    {
      "cell_type": "code",
      "execution_count": 8,
      "metadata": {
        "id": "iDDwMvfP9ssi"
      },
      "outputs": [],
      "source": [
        "def make_discriminator_model(image_widthheight):\n",
        "    initializer = tf.keras.initializers.RandomNormal(mean=0, stddev=0.02)\n",
        "    batch_initializer = tf.keras.initializers.RandomNormal(mean=1, stddev=0.02)\n",
        "    zeror = tf.keras.initializers.Zeros()\n",
        "    model = tf.keras.Sequential()\n",
        "    model.add(layers.Conv2D(image_widthheight, (4, 4), strides=(2, 2), padding='same', kernel_initializer=initializer,\n",
        "                                     input_shape=[image_widthheight, image_widthheight, 3]))\n",
        "    model.add(layers.LeakyReLU(0.2))\n",
        "\n",
        "    model.add(layers.Conv2D(image_widthheight*2, (4, 4), strides=(2, 2), padding='same', kernel_initializer=initializer))\n",
        "    model.add(layers.BatchNormalization(gamma_initializer=batch_initializer, beta_initializer=zeror))\n",
        "    model.add(layers.LeakyReLU(0.2))\n",
        "\n",
        "    model.add(layers.Conv2D(image_widthheight*4, (4, 4), strides=(2, 2), padding='same', kernel_initializer=initializer))\n",
        "    model.add(layers.BatchNormalization(gamma_initializer=batch_initializer, beta_initializer=zeror))\n",
        "    model.add(layers.LeakyReLU(0.2))\n",
        "\n",
        "    model.add(layers.Conv2D(image_widthheight*8, (4, 4), strides=(2, 2), padding='same', kernel_initializer=initializer))\n",
        "    model.add(layers.BatchNormalization(gamma_initializer=batch_initializer, beta_initializer=zeror))\n",
        "    model.add(layers.LeakyReLU(0.2))\n",
        "\n",
        "    model.add(layers.Conv2D(1, (4, 4), strides=(2, 2), kernel_initializer=initializer, activation=\"sigmoid\"))\n",
        "\n",
        "    return model"
      ]
    },
    {
      "cell_type": "code",
      "execution_count": 9,
      "metadata": {
        "colab": {
          "base_uri": "https://localhost:8080/"
        },
        "id": "txS8ZX-W9zNG",
        "outputId": "1b7d7e8e-d342-4525-9fb3-dc28840b22f0"
      },
      "outputs": [
        {
          "name": "stdout",
          "output_type": "stream",
          "text": [
            "Model: \"sequential\"\n",
            "_________________________________________________________________\n",
            " Layer (type)                Output Shape              Param #   \n",
            "=================================================================\n",
            " conv2d_transpose (Conv2DTr  (None, 4, 4, 512)         819200    \n",
            " anspose)                                                        \n",
            "                                                                 \n",
            " batch_normalization (Batch  (None, 4, 4, 512)         2048      \n",
            " Normalization)                                                  \n",
            "                                                                 \n",
            " re_lu (ReLU)                (None, 4, 4, 512)         0         \n",
            "                                                                 \n",
            " conv2d_transpose_1 (Conv2D  (None, 8, 8, 256)         2097152   \n",
            " Transpose)                                                      \n",
            "                                                                 \n",
            " batch_normalization_1 (Bat  (None, 8, 8, 256)         1024      \n",
            " chNormalization)                                                \n",
            "                                                                 \n",
            " re_lu_1 (ReLU)              (None, 8, 8, 256)         0         \n",
            "                                                                 \n",
            " conv2d_transpose_2 (Conv2D  (None, 16, 16, 128)       524288    \n",
            " Transpose)                                                      \n",
            "                                                                 \n",
            " batch_normalization_2 (Bat  (None, 16, 16, 128)       512       \n",
            " chNormalization)                                                \n",
            "                                                                 \n",
            " re_lu_2 (ReLU)              (None, 16, 16, 128)       0         \n",
            "                                                                 \n",
            " conv2d_transpose_3 (Conv2D  (None, 32, 32, 64)        131072    \n",
            " Transpose)                                                      \n",
            "                                                                 \n",
            " batch_normalization_3 (Bat  (None, 32, 32, 64)        256       \n",
            " chNormalization)                                                \n",
            "                                                                 \n",
            " re_lu_3 (ReLU)              (None, 32, 32, 64)        0         \n",
            "                                                                 \n",
            " conv2d_transpose_4 (Conv2D  (None, 64, 64, 3)         3072      \n",
            " Transpose)                                                      \n",
            "                                                                 \n",
            "=================================================================\n",
            "Total params: 3578624 (13.65 MB)\n",
            "Trainable params: 3576704 (13.64 MB)\n",
            "Non-trainable params: 1920 (7.50 KB)\n",
            "_________________________________________________________________\n"
          ]
        },
        {
          "name": "stderr",
          "output_type": "stream",
          "text": [
            "/home/cbeam18/.local/lib/python3.8/site-packages/keras/src/initializers/initializers.py:120: UserWarning: The initializer RandomNormal is unseeded and being called multiple times, which will return identical values each time (even if the initializer is unseeded). Please update your code to provide a seed to the initializer, or avoid using the same initializer instance more than once.\n",
            "  warnings.warn(\n"
          ]
        }
      ],
      "source": [
        "generator = make_generator_model(64)\n",
        "\n",
        "generator.summary()"
      ]
    },
    {
      "cell_type": "code",
      "execution_count": 10,
      "metadata": {
        "colab": {
          "base_uri": "https://localhost:8080/"
        },
        "id": "Vx41-19b94ZL",
        "outputId": "9cece62d-1db8-4af1-97c0-06282edfccfc"
      },
      "outputs": [
        {
          "name": "stdout",
          "output_type": "stream",
          "text": [
            "Model: \"sequential_1\"\n",
            "_________________________________________________________________\n",
            " Layer (type)                Output Shape              Param #   \n",
            "=================================================================\n",
            " conv2d (Conv2D)             (None, 32, 32, 64)        3136      \n",
            "                                                                 \n",
            " leaky_re_lu (LeakyReLU)     (None, 32, 32, 64)        0         \n",
            "                                                                 \n",
            " conv2d_1 (Conv2D)           (None, 16, 16, 128)       131200    \n",
            "                                                                 \n",
            " batch_normalization_4 (Bat  (None, 16, 16, 128)       512       \n",
            " chNormalization)                                                \n",
            "                                                                 \n",
            " leaky_re_lu_1 (LeakyReLU)   (None, 16, 16, 128)       0         \n",
            "                                                                 \n",
            " conv2d_2 (Conv2D)           (None, 8, 8, 256)         524544    \n",
            "                                                                 \n",
            " batch_normalization_5 (Bat  (None, 8, 8, 256)         1024      \n",
            " chNormalization)                                                \n",
            "                                                                 \n",
            " leaky_re_lu_2 (LeakyReLU)   (None, 8, 8, 256)         0         \n",
            "                                                                 \n",
            " conv2d_3 (Conv2D)           (None, 4, 4, 512)         2097664   \n",
            "                                                                 \n",
            " batch_normalization_6 (Bat  (None, 4, 4, 512)         2048      \n",
            " chNormalization)                                                \n",
            "                                                                 \n",
            " leaky_re_lu_3 (LeakyReLU)   (None, 4, 4, 512)         0         \n",
            "                                                                 \n",
            " conv2d_4 (Conv2D)           (None, 1, 1, 1)           8193      \n",
            "                                                                 \n",
            "=================================================================\n",
            "Total params: 2768321 (10.56 MB)\n",
            "Trainable params: 2766529 (10.55 MB)\n",
            "Non-trainable params: 1792 (7.00 KB)\n",
            "_________________________________________________________________\n"
          ]
        }
      ],
      "source": [
        "discriminator = make_discriminator_model(64)\n",
        "\n",
        "discriminator.summary()"
      ]
    },
    {
      "cell_type": "code",
      "execution_count": 11,
      "metadata": {
        "id": "gLfMncrm99vF"
      },
      "outputs": [],
      "source": [
        "cross_entropy = tf.keras.losses.BinaryCrossentropy(from_logits=False)\n",
        "\n",
        "def discriminator_loss(real_output, fake_output):\n",
        "    real_loss = cross_entropy(tf.ones_like(real_output), real_output)\n",
        "    fake_loss = cross_entropy(tf.zeros_like(fake_output), fake_output)\n",
        "    total_loss = real_loss + fake_loss\n",
        "    return total_loss\n",
        "\n",
        "def generator_loss(fake_output):\n",
        "    return cross_entropy(tf.ones_like(fake_output), fake_output)\n",
        "\n",
        "generator_optimizer = tf.keras.optimizers.Adam(2e-4, beta_1=0.5, beta_2=0.999)\n",
        "discriminator_optimizer = tf.keras.optimizers.Adam(2e-4, beta_1=0.5, beta_2=0.999)"
      ]
    },
    {
      "cell_type": "code",
      "execution_count": 12,
      "metadata": {
        "id": "ZOLEfKww-pWG"
      },
      "outputs": [],
      "source": [
        "import matplotlib.pyplot as plt\n",
        "from IPython import display\n",
        "\n",
        "seed = tf.random.normal([49, 1, 1, noise_dim])\n",
        "\n",
        "def generate_and_save_images(model, epoch, test_input):\n",
        "  # Notice `training` is set to False.\n",
        "  # This is so all layers run in inference mode (batchnorm).\n",
        "  predictions = model(test_input, training=False)\n",
        "\n",
        "  fig = plt.figure(figsize=(7, 7))\n",
        "\n",
        "  for i in range(49):\n",
        "      plt.subplot(7, 7, i+1)\n",
        "      plt.imshow((predictions[i] + 1) / 2)\n",
        "      plt.axis('off')\n",
        "\n",
        "  plt.savefig('outputs/image_at_epoch_{:04d}.png'.format(epoch))\n",
        "  plt.show()\n",
        "  plt.close()"
      ]
    },
    {
      "cell_type": "code",
      "execution_count": 13,
      "metadata": {
        "id": "n0chFpcF-Oc2"
      },
      "outputs": [],
      "source": [
        "@tf.function\n",
        "def train_step(images):\n",
        "    noises = tf.random.normal([BATCH_SIZE, 1, 1, noise_dim])\n",
        "    with tf.GradientTape() as disc_tape:\n",
        "        generated_images = generator(noises, training=True)\n",
        "\n",
        "        real_output = discriminator(images, training=True)\n",
        "        fake_output = discriminator(generated_images, training=True)\n",
        "\n",
        "        disc_loss = discriminator_loss(real_output, fake_output)\n",
        "\n",
        "    with tf.GradientTape() as gen_tape:\n",
        "        generated_images = generator(noises, training=True)\n",
        "        fake_output = discriminator(generated_images, training=True)\n",
        "        g_loss = generator_loss(fake_output)\n",
        "        gen_loss = g_loss\n",
        "\n",
        "    grad_gen = gen_tape.gradient(gen_loss, generator.trainable_variables)\n",
        "    grad_disc = disc_tape.gradient(disc_loss, discriminator.trainable_variables)\n",
        "\n",
        "    generator_optimizer.apply_gradients(zip(grad_gen, generator.trainable_variables))\n",
        "    discriminator_optimizer.apply_gradients(zip(grad_disc, discriminator.trainable_variables))\n",
        "\n",
        "    return gen_loss, disc_loss\n",
        "\n",
        "def train(dataset, epochs):\n",
        "    resize_layer = tf.keras.layers.Resizing(64, 64)\n",
        "    for epoch in tqdm(range(epochs)):\n",
        "        # start = time.time()\n",
        "        for batch in dataset:\n",
        "            gen_loss, disc_loss = train_step(batch)\n",
        "            # train_step(resize_layer(batch))\n",
        "\n",
        "        print(f\"Epoch {epoch+1}, Generator Loss: {gen_loss}, Discriminator Loss: {disc_loss}\")\n",
        "        generate_and_save_images(generator, epoch, seed)\n",
        "        # print ('Time for epoch {} is {} sec'.format(epoch + 1, time.time()-start))"
      ]
    },
    {
      "cell_type": "code",
      "execution_count": 14,
      "metadata": {
        "colab": {
          "base_uri": "https://localhost:8080/",
          "height": 1000
        },
        "id": "XAQlBeSZ_NrV",
        "outputId": "dbb3c895-1cb3-47ea-f219-0ed7f7d088a3"
      },
      "outputs": [],
      "source": [
        "if train_GAN:\n",
        "  train(train_dataset, 150)"
      ]
    },
    {
      "cell_type": "code",
      "execution_count": 15,
      "metadata": {
        "id": "OW_A1iZPTHzE"
      },
      "outputs": [],
      "source": [
        "if train_GAN:\n",
        "  generator.save_weights(\"models/generator_64.ckpt\")\n",
        "  discriminator.save_weights(\"models/discriminator_64.ckpt\")\n",
        "else:\n",
        "  generator.load_weights(\"models/generator_64.ckpt\")\n",
        "  discriminator.load_weights(\"models/discriminator_64.ckpt\")"
      ]
    },
    {
      "cell_type": "markdown",
      "metadata": {
        "id": "Q1l_4PeNtzML"
      },
      "source": [
        "## MobileNet V2 - No GAN inputs"
      ]
    },
    {
      "cell_type": "code",
      "execution_count": 16,
      "metadata": {
        "colab": {
          "base_uri": "https://localhost:8080/"
        },
        "id": "z2M5-e1FuBvb",
        "outputId": "0a5ba55a-1d67-4f35-a542-cf69ea14d926"
      },
      "outputs": [],
      "source": [
        "keras.backend.clear_session()\n",
        "(train_images, train_labels), (_, _) = tf.keras.datasets.cifar10.load_data()\n",
        "train_images = tf.image.resize(train_images, (64, 64))"
      ]
    },
    {
      "cell_type": "code",
      "execution_count": 17,
      "metadata": {
        "id": "h48RMR1fuCiK"
      },
      "outputs": [],
      "source": [
        "data_augmentation = keras.Sequential(\n",
        "    [\n",
        "        keras.layers.RandomFlip(\"horizontal\"),\n",
        "        keras.layers.RandomRotation(0.1),\n",
        "        keras.layers.RandomFlip(\"vertical\"),\n",
        "        keras.layers.RandomZoom(height_factor=0.1,width_factor=0.1)\n",
        "    ]\n",
        ")"
      ]
    },
    {
      "cell_type": "code",
      "execution_count": 18,
      "metadata": {
        "colab": {
          "base_uri": "https://localhost:8080/"
        },
        "id": "paD2oghOuIzs",
        "outputId": "045d71ed-ded2-4b58-9cac-9b8997cac1e8"
      },
      "outputs": [
        {
          "name": "stdout",
          "output_type": "stream",
          "text": [
            "Model: \"model\"\n",
            "_________________________________________________________________\n",
            " Layer (type)                Output Shape              Param #   \n",
            "=================================================================\n",
            " input_2 (InputLayer)        [(None, 64, 64, 3)]       0         \n",
            "                                                                 \n",
            " sequential (Sequential)     (None, 64, 64, 3)         0         \n",
            "                                                                 \n",
            " rescaling (Rescaling)       (None, 64, 64, 3)         0         \n",
            "                                                                 \n",
            " resizing (Resizing)         (None, 128, 128, 3)       0         \n",
            "                                                                 \n",
            " mobilenetv2_1.00_128 (Func  (None, 4, 4, 1280)        2257984   \n",
            " tional)                                                         \n",
            "                                                                 \n",
            " global_average_pooling2d (  (None, 1280)              0         \n",
            " GlobalAveragePooling2D)                                         \n",
            "                                                                 \n",
            " dropout (Dropout)           (None, 1280)              0         \n",
            "                                                                 \n",
            " dense (Dense)               (None, 10)                12810     \n",
            "                                                                 \n",
            "=================================================================\n",
            "Total params: 2270794 (8.66 MB)\n",
            "Trainable params: 12810 (50.04 KB)\n",
            "Non-trainable params: 2257984 (8.61 MB)\n",
            "_________________________________________________________________\n"
          ]
        }
      ],
      "source": [
        "base_mobile_model = keras.applications.MobileNetV2(\n",
        "    weights=\"imagenet\",\n",
        "    input_shape=(128,128,3),\n",
        "    include_top=False\n",
        ")\n",
        "\n",
        "base_mobile_model.trainable = False\n",
        "\n",
        "inputs = keras.Input(shape=(64,64,3))\n",
        "x = data_augmentation(inputs)\n",
        "\n",
        "scaled_layer = keras.layers.Rescaling(scale=1/255.0)\n",
        "resize_layer = tf.keras.layers.Resizing(128, 128)\n",
        "x = resize_layer(scaled_layer(x))\n",
        "\n",
        "x = base_mobile_model(x, training=False)\n",
        "x = keras.layers.GlobalAveragePooling2D()(x)\n",
        "x = keras.layers.Dropout(0.2)(x)\n",
        "outputs = keras.layers.Dense(10)(x)\n",
        "mobile_model = keras.Model(inputs, outputs)\n",
        "\n",
        "mobile_model.summary()"
      ]
    },
    {
      "cell_type": "code",
      "execution_count": 19,
      "metadata": {
        "colab": {
          "base_uri": "https://localhost:8080/"
        },
        "id": "8iSiUFzXuRqm",
        "outputId": "d6a51766-0f2c-4457-d6c9-409de4f58d32"
      },
      "outputs": [],
      "source": [
        "if train_original_classifier:\n",
        "  keras.backend.clear_session()\n",
        "  mobile_model.compile(\n",
        "      optimizer=keras.optimizers.Adam(),\n",
        "      loss=keras.losses.SparseCategoricalCrossentropy(from_logits=True),\n",
        "      metrics=['accuracy'],\n",
        "  )\n",
        "\n",
        "  logdir = os.path.join(\"logs\", \"original_classifier_64\")\n",
        "  tensorboard_callback = tf.keras.callbacks.TensorBoard(logdir, histogram_freq=1)\n",
        "\n",
        "  epochs = 20\n",
        "  mobile_model.fit(train_images, train_labels, batch_size=128, epochs=epochs, callbacks=[tensorboard_callback])"
      ]
    },
    {
      "cell_type": "code",
      "execution_count": 20,
      "metadata": {
        "colab": {
          "base_uri": "https://localhost:8080/"
        },
        "id": "LP2lqSurugil",
        "outputId": "9fc769b1-ff47-47e8-c7d5-0cb9c0287384"
      },
      "outputs": [],
      "source": [
        "if train_original_classifier:\n",
        "  keras.backend.clear_session()\n",
        "  base_mobile_model.trainable = True\n",
        "\n",
        "  mobile_model.compile(\n",
        "      optimizer=keras.optimizers.Adam(1e-5),\n",
        "      loss=keras.losses.SparseCategoricalCrossentropy(from_logits=True),\n",
        "      metrics=['accuracy'],\n",
        "  )\n",
        "\n",
        "  mobile_model.fit(train_images, train_labels, batch_size=128, epochs=10) #, callbacks=[tensorboard_callback])"
      ]
    },
    {
      "cell_type": "code",
      "execution_count": 21,
      "metadata": {
        "colab": {
          "base_uri": "https://localhost:8080/",
          "height": 227
        },
        "id": "7UGxqAhvUCP_",
        "outputId": "b768c95b-f24f-4564-d0cf-bc1d93a74bff"
      },
      "outputs": [],
      "source": [
        "if train_original_classifier:\n",
        "  mobile_model.save_weights(\"models/mobile_model_64.ckpt\")\n",
        "else:\n",
        "  mobile_model.load_weights(\"models/mobile_model_64.ckpt\")"
      ]
    },
    {
      "cell_type": "markdown",
      "metadata": {},
      "source": [
        "## SRGAN"
      ]
    },
    {
      "cell_type": "code",
      "execution_count": 22,
      "metadata": {},
      "outputs": [],
      "source": [
        "def GENBlock(x):\n",
        "    out = keras.layers.Conv2D(64, (3,3), (1,1), padding='same')(x)\n",
        "    out = keras.layers.BatchNormalization()(out)\n",
        "    out = keras.layers.PReLU()(out)\n",
        "    out = keras.layers.Conv2D(64, (3,3), (1,1), padding='same')(x)\n",
        "    out = keras.layers.BatchNormalization()(out)\n",
        "    out = keras.layers.Add()([out, x])\n",
        "    return out\n",
        "\n",
        "def DISBlock(x, n):\n",
        "    out = keras.layers.Conv2D(n, (3,3), (1,1), padding='same')(x)\n",
        "    out = keras.layers.BatchNormalization()(out)\n",
        "    out = keras.layers.LeakyReLU(0.2)(out)\n",
        "    out = keras.layers.Conv2D(n, (3,3), (2,2), padding='same')(x)\n",
        "    out = keras.layers.BatchNormalization()(out)\n",
        "    out = keras.layers.LeakyReLU(0.2)(out)\n",
        "    return out"
      ]
    },
    {
      "cell_type": "code",
      "execution_count": 23,
      "metadata": {},
      "outputs": [
        {
          "name": "stdout",
          "output_type": "stream",
          "text": [
            "Model: \"model_1\"\n",
            "__________________________________________________________________________________________________\n",
            " Layer (type)                Output Shape                 Param #   Connected to                  \n",
            "==================================================================================================\n",
            " input_3 (InputLayer)        [(None, 64, 64, 3)]          0         []                            \n",
            "                                                                                                  \n",
            " conv2d (Conv2D)             (None, 64, 64, 64)           15616     ['input_3[0][0]']             \n",
            "                                                                                                  \n",
            " p_re_lu (PReLU)             (None, 64, 64, 64)           262144    ['conv2d[0][0]']              \n",
            "                                                                                                  \n",
            " conv2d_2 (Conv2D)           (None, 64, 64, 64)           36928     ['p_re_lu[0][0]']             \n",
            "                                                                                                  \n",
            " batch_normalization_1 (Bat  (None, 64, 64, 64)           256       ['conv2d_2[0][0]']            \n",
            " chNormalization)                                                                                 \n",
            "                                                                                                  \n",
            " add (Add)                   (None, 64, 64, 64)           0         ['batch_normalization_1[0][0]'\n",
            "                                                                    , 'p_re_lu[0][0]']            \n",
            "                                                                                                  \n",
            " conv2d_4 (Conv2D)           (None, 64, 64, 64)           36928     ['add[0][0]']                 \n",
            "                                                                                                  \n",
            " batch_normalization_3 (Bat  (None, 64, 64, 64)           256       ['conv2d_4[0][0]']            \n",
            " chNormalization)                                                                                 \n",
            "                                                                                                  \n",
            " add_1 (Add)                 (None, 64, 64, 64)           0         ['batch_normalization_3[0][0]'\n",
            "                                                                    , 'add[0][0]']                \n",
            "                                                                                                  \n",
            " conv2d_6 (Conv2D)           (None, 64, 64, 64)           36928     ['add_1[0][0]']               \n",
            "                                                                                                  \n",
            " batch_normalization_5 (Bat  (None, 64, 64, 64)           256       ['conv2d_6[0][0]']            \n",
            " chNormalization)                                                                                 \n",
            "                                                                                                  \n",
            " add_2 (Add)                 (None, 64, 64, 64)           0         ['batch_normalization_5[0][0]'\n",
            "                                                                    , 'add_1[0][0]']              \n",
            "                                                                                                  \n",
            " conv2d_8 (Conv2D)           (None, 64, 64, 64)           36928     ['add_2[0][0]']               \n",
            "                                                                                                  \n",
            " batch_normalization_7 (Bat  (None, 64, 64, 64)           256       ['conv2d_8[0][0]']            \n",
            " chNormalization)                                                                                 \n",
            "                                                                                                  \n",
            " add_3 (Add)                 (None, 64, 64, 64)           0         ['batch_normalization_7[0][0]'\n",
            "                                                                    , 'add_2[0][0]']              \n",
            "                                                                                                  \n",
            " conv2d_10 (Conv2D)          (None, 64, 64, 64)           36928     ['add_3[0][0]']               \n",
            "                                                                                                  \n",
            " batch_normalization_9 (Bat  (None, 64, 64, 64)           256       ['conv2d_10[0][0]']           \n",
            " chNormalization)                                                                                 \n",
            "                                                                                                  \n",
            " add_4 (Add)                 (None, 64, 64, 64)           0         ['batch_normalization_9[0][0]'\n",
            "                                                                    , 'add_3[0][0]']              \n",
            "                                                                                                  \n",
            " conv2d_11 (Conv2D)          (None, 64, 64, 64)           36928     ['add_4[0][0]']               \n",
            "                                                                                                  \n",
            " batch_normalization_10 (Ba  (None, 64, 64, 64)           256       ['conv2d_11[0][0]']           \n",
            " tchNormalization)                                                                                \n",
            "                                                                                                  \n",
            " add_5 (Add)                 (None, 64, 64, 64)           0         ['batch_normalization_10[0][0]\n",
            "                                                                    ',                            \n",
            "                                                                     'p_re_lu[0][0]']             \n",
            "                                                                                                  \n",
            " conv2d_12 (Conv2D)          (None, 64, 64, 256)          147712    ['add_5[0][0]']               \n",
            "                                                                                                  \n",
            " reshape (Reshape)           (None, 128, 128, 64)         0         ['conv2d_12[0][0]']           \n",
            "                                                                                                  \n",
            " p_re_lu_6 (PReLU)           (None, 128, 128, 64)         1048576   ['reshape[0][0]']             \n",
            "                                                                                                  \n",
            " conv2d_13 (Conv2D)          (None, 64, 64, 256)          147712    ['p_re_lu_6[0][0]']           \n",
            "                                                                                                  \n",
            " reshape_1 (Reshape)         (None, 128, 128, 64)         0         ['conv2d_13[0][0]']           \n",
            "                                                                                                  \n",
            " p_re_lu_7 (PReLU)           (None, 128, 128, 64)         1048576   ['reshape_1[0][0]']           \n",
            "                                                                                                  \n",
            " conv2d_14 (Conv2D)          (None, 128, 128, 3)          15555     ['p_re_lu_7[0][0]']           \n",
            "                                                                                                  \n",
            "==================================================================================================\n",
            "Total params: 2908995 (11.10 MB)\n",
            "Trainable params: 2908227 (11.09 MB)\n",
            "Non-trainable params: 768 (3.00 KB)\n",
            "__________________________________________________________________________________________________\n"
          ]
        }
      ],
      "source": [
        "inputs = keras.Input(shape=(64,64,3))\n",
        "scaled_layer = keras.layers.Rescaling(scale=1/255.0, offset=0)\n",
        "\n",
        "# x = scaled_layer(inputs)\n",
        "x = keras.layers.Conv2D(64, (9,9), (1,1), padding='same')(inputs)\n",
        "x = keras.layers.PReLU()(x)\n",
        "x_skip = x\n",
        "for i in range(5):\n",
        "    x = GENBlock(x)\n",
        "x = keras.layers.Conv2D(64, (3,3), (1,1), padding='same')(x)\n",
        "x = keras.layers.BatchNormalization()(x)\n",
        "x = keras.layers.Add()([x, x_skip])\n",
        "\n",
        "x = keras.layers.Conv2D(256, (3,3), (1,1), padding='same')(x)\n",
        "x = keras.layers.Reshape((x.shape[1]*2, x.shape[2]*2, x.shape[3]//4))(x)\n",
        "x = keras.layers.PReLU()(x)\n",
        "\n",
        "x = keras.layers.Conv2D(256, (3,3), (2,2), padding='same')(x)\n",
        "x = keras.layers.Reshape((x.shape[1]*2, x.shape[2]*2, x.shape[3]//4))(x)\n",
        "x = keras.layers.PReLU()(x)\n",
        "\n",
        "outputs = keras.layers.Conv2D(3, (9,9), (1,1), padding='same')(x)\n",
        "\n",
        "srgenerator_model = keras.Model(inputs, outputs)\n",
        "srgenerator_model.summary()"
      ]
    },
    {
      "cell_type": "code",
      "execution_count": 24,
      "metadata": {},
      "outputs": [
        {
          "data": {
            "text/plain": [
              "<tensorflow.python.checkpoint.checkpoint.CheckpointLoadStatus at 0x7f89a037e070>"
            ]
          },
          "execution_count": 24,
          "metadata": {},
          "output_type": "execute_result"
        }
      ],
      "source": [
        "srgenerator_model.load_weights(\"models/gen_model.ckpt\")"
      ]
    },
    {
      "cell_type": "markdown",
      "metadata": {
        "id": "Kw2zY-UVe8rl"
      },
      "source": [
        "## Training New Model"
      ]
    },
    {
      "cell_type": "code",
      "execution_count": 77,
      "metadata": {
        "colab": {
          "base_uri": "https://localhost:8080/"
        },
        "id": "Fd3Kj49Tfj9N",
        "outputId": "e596560e-4875-4a70-91fe-8692119cdd32"
      },
      "outputs": [
        {
          "name": "stdout",
          "output_type": "stream",
          "text": [
            "Model: \"model\"\n",
            "_________________________________________________________________\n",
            " Layer (type)                Output Shape              Param #   \n",
            "=================================================================\n",
            " input_2 (InputLayer)        [(None, 128, 128, 3)]     0         \n",
            "                                                                 \n",
            " sequential (Sequential)     (None, None, None, 3)     0         \n",
            "                                                                 \n",
            " resizing (Resizing)         (None, 128, 128, 3)       0         \n",
            "                                                                 \n",
            " mobilenetv2_1.00_128 (Func  (None, 4, 4, 1280)        2257984   \n",
            " tional)                                                         \n",
            "                                                                 \n",
            " global_average_pooling2d (  (None, 1280)              0         \n",
            " GlobalAveragePooling2D)                                         \n",
            "                                                                 \n",
            " dropout (Dropout)           (None, 1280)              0         \n",
            "                                                                 \n",
            " dense (Dense)               (None, 10)                12810     \n",
            "                                                                 \n",
            "=================================================================\n",
            "Total params: 2270794 (8.66 MB)\n",
            "Trainable params: 12810 (50.04 KB)\n",
            "Non-trainable params: 2257984 (8.61 MB)\n",
            "_________________________________________________________________\n"
          ]
        }
      ],
      "source": [
        "base_mobile_modelB = keras.applications.MobileNetV2(\n",
        "    weights=\"imagenet\",\n",
        "    input_shape=(128,128,3),\n",
        "    include_top=False\n",
        ")\n",
        "\n",
        "base_mobile_modelB.trainable = False\n",
        "\n",
        "inputs = keras.Input(shape=(128,128,3))\n",
        "x = data_augmentation(inputs)\n",
        "\n",
        "scaled_layer = keras.layers.Rescaling(scale=1/255.0)\n",
        "resize_layer = tf.keras.layers.Resizing(128, 128)\n",
        "x = resize_layer(x)\n",
        "\n",
        "x = base_mobile_modelB(x, training=False)\n",
        "x = keras.layers.GlobalAveragePooling2D()(x)\n",
        "x = keras.layers.Dropout(0.2)(x)\n",
        "outputs = keras.layers.Dense(10)(x)\n",
        "modelB = keras.Model(inputs, outputs)\n",
        "\n",
        "modelB.summary()"
      ]
    },
    {
      "cell_type": "code",
      "execution_count": 69,
      "metadata": {},
      "outputs": [],
      "source": [
        "(train_images, train_labels), (_, _) = tf.keras.datasets.cifar10.load_data()"
      ]
    },
    {
      "cell_type": "code",
      "execution_count": 70,
      "metadata": {},
      "outputs": [],
      "source": [
        "class_length = 5000\n",
        "percent_cut = 0.5\n",
        "subset_length = int(percent_cut*class_length)"
      ]
    },
    {
      "cell_type": "code",
      "execution_count": 71,
      "metadata": {},
      "outputs": [],
      "source": [
        "subset_indicies = np.concatenate([np.arange(x * class_length, x * class_length + subset_length) for x in np.arange(0,10)])"
      ]
    },
    {
      "cell_type": "code",
      "execution_count": 72,
      "metadata": {},
      "outputs": [],
      "source": [
        "train_images = train_images[np.isin(np.argsort(train_labels.flatten()), subset_indicies).flatten()]\n",
        "train_labels = train_labels[np.isin(np.argsort(train_labels.flatten()), subset_indicies).flatten()]"
      ]
    },
    {
      "cell_type": "code",
      "execution_count": 73,
      "metadata": {},
      "outputs": [],
      "source": [
        "train_images = tf.image.resize(train_images, (128, 128))"
      ]
    },
    {
      "cell_type": "code",
      "execution_count": 52,
      "metadata": {},
      "outputs": [
        {
          "name": "stdout",
          "output_type": "stream",
          "text": [
            "Found 10000 files belonging to 10 classes.\n"
          ]
        }
      ],
      "source": [
        "custom_ds = tf.keras.utils.image_dataset_from_directory(\"fake_dataset2\", labels=\"inferred\", batch_size=128, image_size=(64, 64), shuffle=False)\n",
        "custom_ds_SRGAN = custom_ds.map(lambda x, y: (tf.cast(tf.clip_by_value(srgenerator_model(scaled_layer(x), training=False), 0, 255), \"uint8\"), y))\n"
      ]
    },
    {
      "cell_type": "code",
      "execution_count": 53,
      "metadata": {},
      "outputs": [],
      "source": [
        "custom_images = tf.convert_to_tensor(np.concatenate([x for x,y in custom_ds_SRGAN], axis=0))"
      ]
    },
    {
      "cell_type": "code",
      "execution_count": 54,
      "metadata": {},
      "outputs": [],
      "source": [
        "custom_labels = (np.concatenate([y for x,y in custom_ds], axis=0))\n",
        "custom_labels = custom_labels.astype(np.float32).astype(np.uint8)"
      ]
    },
    {
      "cell_type": "code",
      "execution_count": 74,
      "metadata": {},
      "outputs": [],
      "source": [
        "train_images = tf.cast(train_images, \"uint8\")"
      ]
    },
    {
      "cell_type": "code",
      "execution_count": 75,
      "metadata": {},
      "outputs": [],
      "source": [
        "train_images2 = tf.concat([train_images, custom_images], axis=0)\n",
        "train_labels2 = np.concatenate([train_labels, np.vstack(custom_labels)], axis=0)"
      ]
    },
    {
      "cell_type": "code",
      "execution_count": 78,
      "metadata": {},
      "outputs": [
        {
          "name": "stdout",
          "output_type": "stream",
          "text": [
            "Epoch 1/20\n",
            "274/274 [==============================] - 7s 20ms/step - loss: 2.1259 - accuracy: 0.2313\n",
            "Epoch 2/20\n",
            "274/274 [==============================] - 6s 20ms/step - loss: 1.9306 - accuracy: 0.2965\n",
            "Epoch 3/20\n",
            "274/274 [==============================] - 6s 20ms/step - loss: 1.8921 - accuracy: 0.3098\n",
            "Epoch 4/20\n",
            "274/274 [==============================] - 6s 20ms/step - loss: 1.8631 - accuracy: 0.3205\n",
            "Epoch 5/20\n",
            "274/274 [==============================] - 6s 21ms/step - loss: 1.8542 - accuracy: 0.3292\n",
            "Epoch 6/20\n",
            "274/274 [==============================] - 6s 21ms/step - loss: 1.8464 - accuracy: 0.3283\n",
            "Epoch 7/20\n",
            "274/274 [==============================] - 6s 20ms/step - loss: 1.8393 - accuracy: 0.3335\n",
            "Epoch 8/20\n",
            "274/274 [==============================] - 6s 21ms/step - loss: 1.8329 - accuracy: 0.3339\n",
            "Epoch 9/20\n",
            "274/274 [==============================] - 6s 20ms/step - loss: 1.8316 - accuracy: 0.3342\n",
            "Epoch 10/20\n",
            "274/274 [==============================] - 5s 20ms/step - loss: 1.8300 - accuracy: 0.3357\n",
            "Epoch 11/20\n",
            "274/274 [==============================] - 6s 20ms/step - loss: 1.8312 - accuracy: 0.3346\n",
            "Epoch 12/20\n",
            "274/274 [==============================] - 6s 20ms/step - loss: 1.8280 - accuracy: 0.3365\n",
            "Epoch 13/20\n",
            "274/274 [==============================] - 6s 21ms/step - loss: 1.8315 - accuracy: 0.3382\n",
            "Epoch 14/20\n",
            "274/274 [==============================] - 5s 20ms/step - loss: 1.8200 - accuracy: 0.3398\n",
            "Epoch 15/20\n",
            "274/274 [==============================] - 6s 20ms/step - loss: 1.8290 - accuracy: 0.3355\n",
            "Epoch 16/20\n",
            "274/274 [==============================] - 6s 21ms/step - loss: 1.8295 - accuracy: 0.3364\n",
            "Epoch 17/20\n",
            "274/274 [==============================] - 6s 20ms/step - loss: 1.8249 - accuracy: 0.3411\n",
            "Epoch 18/20\n",
            "274/274 [==============================] - 6s 20ms/step - loss: 1.8266 - accuracy: 0.3370\n",
            "Epoch 19/20\n",
            "274/274 [==============================] - 6s 23ms/step - loss: 1.8298 - accuracy: 0.3390\n",
            "Epoch 20/20\n",
            "274/274 [==============================] - 6s 21ms/step - loss: 1.8308 - accuracy: 0.3351\n"
          ]
        }
      ],
      "source": [
        "if train_GAN_classifier:\n",
        "  keras.backend.clear_session()\n",
        "  modelB.compile(\n",
        "      optimizer=keras.optimizers.Adam(),\n",
        "      loss=keras.losses.SparseCategoricalCrossentropy(from_logits=True),\n",
        "      metrics=['accuracy'],\n",
        "  )\n",
        "\n",
        "  logdir = os.path.join(\"logs\", \"gan_classifier2_128\")\n",
        "  tensorboard_callback = tf.keras.callbacks.TensorBoard(logdir, histogram_freq=1)\n",
        "\n",
        "  epochs = 20\n",
        "  modelB.fit(train_images2, train_labels2, batch_size=128, epochs=epochs, callbacks=[tensorboard_callback])"
      ]
    },
    {
      "cell_type": "code",
      "execution_count": 89,
      "metadata": {},
      "outputs": [
        {
          "name": "stdout",
          "output_type": "stream",
          "text": [
            "Epoch 1/10\n",
            "274/274 [==============================] - 21s 42ms/step - loss: 1.0331 - accuracy: 0.6272\n",
            "Epoch 2/10\n",
            "274/274 [==============================] - 12s 43ms/step - loss: 1.0248 - accuracy: 0.6289\n",
            "Epoch 3/10\n",
            "274/274 [==============================] - 12s 43ms/step - loss: 1.0227 - accuracy: 0.6298\n",
            "Epoch 4/10\n",
            "274/274 [==============================] - 12s 43ms/step - loss: 1.0070 - accuracy: 0.6364\n",
            "Epoch 5/10\n",
            "274/274 [==============================] - 12s 42ms/step - loss: 1.0026 - accuracy: 0.6409\n",
            "Epoch 6/10\n",
            "274/274 [==============================] - 12s 43ms/step - loss: 0.9939 - accuracy: 0.6412\n",
            "Epoch 7/10\n",
            "274/274 [==============================] - 12s 42ms/step - loss: 0.9794 - accuracy: 0.6449\n",
            "Epoch 8/10\n",
            "274/274 [==============================] - 12s 42ms/step - loss: 0.9789 - accuracy: 0.6490\n",
            "Epoch 9/10\n",
            "274/274 [==============================] - 12s 45ms/step - loss: 0.9722 - accuracy: 0.6496\n",
            "Epoch 10/10\n",
            "274/274 [==============================] - 12s 43ms/step - loss: 0.9727 - accuracy: 0.6489\n"
          ]
        }
      ],
      "source": [
        "if train_GAN_classifier:\n",
        "  keras.backend.clear_session()\n",
        "  base_mobile_modelB.trainable = True\n",
        "\n",
        "  modelB.compile(\n",
        "      optimizer=keras.optimizers.Adam(1e-5),\n",
        "      loss=keras.losses.SparseCategoricalCrossentropy(from_logits=True),\n",
        "      metrics=['accuracy'],\n",
        "  )\n",
        "\n",
        "  modelB.fit(train_images2, train_labels2, batch_size=128, epochs=10, callbacks=[tensorboard_callback])"
      ]
    },
    {
      "cell_type": "code",
      "execution_count": 93,
      "metadata": {
        "id": "iMCwXlcSRWsM"
      },
      "outputs": [],
      "source": [
        "if train_GAN_classifier:\n",
        "  modelB.save_weights(\"models/modelB2_128.ckpt\")\n",
        "else:\n",
        "  modelB.load_weights(\"models/modelB2_128.ckpt\")"
      ]
    },
    {
      "cell_type": "markdown",
      "metadata": {},
      "source": [
        "## Compare Against Test Dataset"
      ]
    },
    {
      "cell_type": "code",
      "execution_count": 94,
      "metadata": {},
      "outputs": [],
      "source": [
        "keras.backend.clear_session()\n",
        "(_, _), (test_images, test_labels) = tf.keras.datasets.cifar10.load_data()\n",
        "test_images = tf.image.resize(test_images, (128, 128))\n",
        "\n",
        "test_dataset = tf.data.Dataset.from_tensor_slices((test_images, test_labels)).batch(BATCH_SIZE)"
      ]
    },
    {
      "cell_type": "code",
      "execution_count": 95,
      "metadata": {},
      "outputs": [
        {
          "name": "stdout",
          "output_type": "stream",
          "text": [
            "Oringinal Accuracy: 0.8892999887466431, GAN Classifier Accuracy: 0.7020999789237976\n"
          ]
        }
      ],
      "source": [
        "class_accuracy_original = keras.metrics.Accuracy()\n",
        "class_accuracy_gan = keras.metrics.Accuracy()\n",
        "\n",
        "true_stack = []\n",
        "orig_stack = []\n",
        "gan_stack = []\n",
        "resize_layer = tf.keras.layers.Resizing(64, 64)\n",
        "for batch in test_dataset:\n",
        "    batch_size = len(batch[0])\n",
        "    pred_orig = mobile_model(resize_layer(batch[0]), training=False)\n",
        "    pred_gan = modelB(batch[0], training=False)\n",
        "\n",
        "    label_orig = tf.reshape(tf.cast(tf.math.argmax(pred_orig, axis=1), dtype=tf.uint8), (batch_size, 1))\n",
        "    label_gan = tf.reshape(tf.cast(tf.math.argmax(pred_gan, axis=1), dtype=tf.uint8), (batch_size, 1))\n",
        "\n",
        "    class_accuracy_original.update_state(batch[1], label_orig)\n",
        "    class_accuracy_gan.update_state(batch[1], label_gan)\n",
        "\n",
        "    true_stack.append(batch[1])\n",
        "    orig_stack.append(label_orig)\n",
        "    gan_stack.append(label_gan)\n",
        "\n",
        "print(f\"Oringinal Accuracy: {class_accuracy_original.result().numpy()}, GAN Classifier Accuracy: {class_accuracy_gan.result().numpy()}\")"
      ]
    },
    {
      "cell_type": "code",
      "execution_count": 96,
      "metadata": {},
      "outputs": [
        {
          "data": {
            "text/plain": [
              "<tf.Tensor: shape=(10, 10), dtype=int32, numpy=\n",
              "array([[912,   6,   4,   4,   3,   0,   0,   4,  43,  24],\n",
              "       [  3, 937,   0,   0,   0,   0,   0,   0,   3,  57],\n",
              "       [ 27,   2, 870,  28,  34,   9,  12,  14,   3,   1],\n",
              "       [  7,   7,  27, 795,  19,  99,  11,  18,   9,   8],\n",
              "       [  2,   1,  26,  16, 874,  11,   8,  58,   3,   1],\n",
              "       [  2,   0,  11,  95,  15, 842,   3,  25,   2,   5],\n",
              "       [  7,   4,  18,  42,  24,  15, 875,   5,   6,   4],\n",
              "       [ 14,   2,   7,  16,  35,  23,   2, 894,   2,   5],\n",
              "       [ 27,  18,   1,   0,   1,   1,   1,   1, 936,  14],\n",
              "       [  5,  31,   0,   0,   0,   0,   0,   1,   5, 958]], dtype=int32)>"
            ]
          },
          "execution_count": 96,
          "metadata": {},
          "output_type": "execute_result"
        }
      ],
      "source": [
        "tf.math.confusion_matrix(\n",
        "    tf.unstack(tf.concat(true_stack, axis=0), axis=1)[0], \n",
        "    tf.unstack(tf.concat(orig_stack, axis=0), axis=1)[0], num_classes=10\n",
        ")"
      ]
    },
    {
      "cell_type": "code",
      "execution_count": 97,
      "metadata": {},
      "outputs": [
        {
          "data": {
            "text/plain": [
              "<tf.Tensor: shape=(10, 10), dtype=int32, numpy=\n",
              "array([[751,  24,  48,  23,  11,   7,   7,   5,  80,  44],\n",
              "       [ 12, 885,   8,   3,   0,   5,  11,   0,  18,  58],\n",
              "       [ 37,   6, 661,  75,  61,  52,  83,   8,  12,   5],\n",
              "       [ 15,   6,  62, 558,  37, 162,  99,  20,  13,  28],\n",
              "       [ 24,   2, 114,  76, 596,  20, 106,  41,   8,  13],\n",
              "       [  4,   8,  47, 223,  26, 595,  58,  26,   5,   8],\n",
              "       [  4,   8,  41,  51,  19,  16, 838,   6,   6,  11],\n",
              "       [ 26,   3,  42, 108,  89,  95,  26, 573,   5,  33],\n",
              "       [ 85,  54,  11,  22,   1,   9,   4,   3, 778,  33],\n",
              "       [ 22, 102,   7,  29,   5,   6,  14,   4,  25, 786]], dtype=int32)>"
            ]
          },
          "execution_count": 97,
          "metadata": {},
          "output_type": "execute_result"
        }
      ],
      "source": [
        "tf.math.confusion_matrix(\n",
        "    tf.unstack(tf.concat(true_stack, axis=0), axis=1)[0], \n",
        "    tf.unstack(tf.concat(gan_stack, axis=0), axis=1)[0], num_classes=10\n",
        ")"
      ]
    },
    {
      "cell_type": "code",
      "execution_count": 98,
      "metadata": {},
      "outputs": [
        {
          "data": {
            "image/png": "[encoded data removed]",
            "text/plain": [
              "<Figure size 640x480 with 2 Axes>"
            ]
          },
          "metadata": {},
          "output_type": "display_data"
        }
      ],
      "source": [
        "from sklearn.metrics import confusion_matrix, ConfusionMatrixDisplay\n",
        "class_labels = [0, 1, 2, 3, 4, 5, 6, 7, 8, 9]\n",
        "class_names = [\"Airplane\", \"Automobile\", \"Bird\", \"Cat\", \"Deer\", \"Dog\", \"Frog\", \"Horse\", \"Ship\", \"Truck\"]\n",
        "\n",
        "cm = confusion_matrix(\n",
        "    y_true=tf.unstack(tf.concat(true_stack, axis=0), axis=1)[0].numpy(), \n",
        "    y_pred=tf.unstack(tf.concat(orig_stack, axis=0), axis=1)[0].numpy(), \n",
        "    labels=class_labels\n",
        ")\n",
        "\n",
        "disp = ConfusionMatrixDisplay(confusion_matrix=cm,\n",
        "    display_labels=class_names)\n",
        "disp.plot()\n",
        "plt.show()\n",
        "plt.close()"
      ]
    },
    {
      "cell_type": "code",
      "execution_count": 99,
      "metadata": {},
      "outputs": [
        {
          "data": {
            "image/png": "[encoded data removed]",
            "text/plain": [
              "<Figure size 640x480 with 2 Axes>"
            ]
          },
          "metadata": {},
          "output_type": "display_data"
        }
      ],
      "source": [
        "class_labels = [0, 1, 2, 3, 4, 5, 6, 7, 8, 9]\n",
        "class_names = [\"Airplane\", \"Automobile\", \"Bird\", \"Cat\", \"Deer\", \"Dog\", \"Frog\", \"Horse\", \"Ship\", \"Truck\"]\n",
        "\n",
        "cm = confusion_matrix(\n",
        "    y_true=tf.unstack(tf.concat(true_stack, axis=0), axis=1)[0].numpy(), \n",
        "    y_pred=tf.unstack(tf.concat(gan_stack, axis=0), axis=1)[0].numpy(), \n",
        "    labels=class_labels\n",
        ")\n",
        "\n",
        "disp = ConfusionMatrixDisplay(confusion_matrix=cm,\n",
        "    display_labels=class_names)\n",
        "disp.plot()\n",
        "plt.show()\n",
        "plt.close()"
      ]
    }
  ],
  "metadata": {
    "accelerator": "GPU",
    "colab": {
      "provenance": []
    },
    "kernelspec": {
      "display_name": "Python 3",
      "name": "python3"
    },
    "language_info": {
      "codemirror_mode": {
        "name": "ipython",
        "version": 3
      },
      "file_extension": ".py",
      "mimetype": "text/x-python",
      "name": "python",
      "nbconvert_exporter": "python",
      "pygments_lexer": "ipython3",
      "version": "3.8.10"
    }
  },
  "nbformat": 4,
  "nbformat_minor": 0
}
